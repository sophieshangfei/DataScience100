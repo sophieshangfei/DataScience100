{
 "cells": [
  {
   "cell_type": "markdown",
   "metadata": {},
   "source": [
    "# Project 2: Spam/Ham Prediction\n",
    "\n",
    "In this project, you will use what you've learned in class to create a classifier that can distinguish spam emails from ham (non-spam) emails.\n",
    "\n",
    "We'll walk you through a couple steps to get you started, but this project is almost entirely open-ended. Instead of providing you with a skeleton to fill in, we will evaluate your work based on your model's accuracy and your written responses in this notebook."
   ]
  },
  {
   "cell_type": "markdown",
   "metadata": {},
   "source": [
    "## Kaggle\n",
    "\n",
    "This project is a bit different from the other assignments in this class because we are using Kaggle to evaluate your model's accuracy. Kaggle is a website that hosts machine learning competitions.\n",
    "\n",
    "We've created a competition just for this project: https://www.kaggle.com/t/433a6bca95f94a78a0d2a6e7e8b311c3\n",
    "\n",
    "Here's how submitting to Kaggle works:\n",
    "\n",
    "1. You will create a classifier using the training dataset.\n",
    "2. You will use your classifier to make predictions on the test dataset.\n",
    "3. You will upload your predictions as a CSV to https://www.kaggle.com/t/433a6bca95f94a78a0d2a6e7e8b311c3\n",
    "4. The website will tell you your accuracy on the test set. You may only do this twice a day. You must reach a test set accuracy of **88%** in order to get full credit for the Kaggle portion of the assignment.\n",
    "\n",
    "(After the assignment ends, we will evaluate your accuracy on a private test set to ensure that you aren't overfitting to the test set.)"
   ]
  },
  {
   "cell_type": "markdown",
   "metadata": {},
   "source": [
    "## Submission\n",
    "\n",
    "This project has no ok tests (and no autograder). Instead, you will submit the following:\n",
    "\n",
    "0. **Your notebook to OkPy**. You can do this by running the `ok.submit()` cell at the bottom of this notebook. Note that there is no autograder for this assignment so you will not receive autograder emails.\n",
    "0. **Your notebook's written answers to GradeScope.** The cell to export the notebook is located at the bottom of this notebook. If you have trouble converting your notebook to PDF, you may upload your notebook to http://datahub.berkeley.edu/ and run the cell there.\n",
    "0. **Your model's predictions on the test set to Kaggle**, a website that hosts machine learning competitions. Kaggle will output your your accuracy on the test set so that you will know whether you've met the accuracy threshold or not.\n",
    "\n",
    "**To prevent you from fitting to the test set, you may only upload predictions to Kaggle twice per day.** This means you should start early. In addition, if you decide to pair with someone else, your group only gets two submissions per day (not four).\n",
    "\n",
    "This project (notebook + Gradescope submissions) is officially due Friday, Dec 1 at 11:59:59pm since we can't make assignments due after classes end. However, we will accept submissions until **Monday, Dec 4 at 11:59:59pm** without using slip days. Submissions after Dec 4 will use 1 slip day each day after Dec 4. The Kaggle competition will remain open until **Saturday Dec 9 at 11:59:59pm**.\n",
    "\n",
    "**No late Kaggle submissions will be accepted** since we've taken slip days into account when setting the Kaggle deadline. You will not use slip days for Kaggle submissions."
   ]
  },
  {
   "cell_type": "markdown",
   "metadata": {},
   "source": [
    "## Grading\n",
    "Grading will be based on a number of set criteria, enumerated below:\n",
    "\n",
    "Task | Description\n",
    "--- | ---\n",
    "Basic Classifier | You succesfully implement our guided basic logistic regression classifier.\n",
    "EDA | You create four exploratory plots that help explain your feature choices.\n",
    "Feature Selection | You explain and justify your feature selection process\n",
    "Written Questions | You answer the written questions that we place throughout this notebook.\n",
    "Kaggle Accuracy | Your model beats the prediction accuracy threshold of **88%**. This is attainable with a well-thought-out model.\n",
    "\n",
    "**You are allowed to work in groups of 2 for this assignment!** If you decide to partner with someone else, make sure you do the following:\n",
    "\n",
    "1. Have one person in the group invite the other on OkPy: https://okpy.org/cal/ds100/fa17/proj2/\n",
    "1. Have one person in the group invite the other person on Gradescope.\n",
    "1. Have one person in the group invite the other person on Kaggle: https://www.kaggle.com/t/433a6bca95f94a78a0d2a6e7e8b311c3"
   ]
  },
  {
   "cell_type": "markdown",
   "metadata": {},
   "source": [
    "## Prizes\n",
    "\n",
    "Although you need to reach 88% accuracy in order to get full credit, we will reward those that create great classifiers.\n",
    "\n",
    "The top 10 students on the Kaggle leaderboard, evaluated by their score in the private test set will: \n",
    "\n",
    "1. Have bragging rights \n",
    "2. Be invited to attend a lunch at the Faculty Club, hosted by Professors Gonzalez and Nolan.\n",
    "\n",
    "## Restrictions\n",
    "\n",
    "While we want you to be creative with your models, we want to make it fair to students who are seeing these techniques for the first time.  As such, **you are only allowed to train logistic regression models and their regularized forms**.  This means no random forest, CART, neural nets, etc.  However, you are free to feature engineer to your heart's content.  Remember that domain knowledge is the third component of data science."
   ]
  },
  {
   "cell_type": "markdown",
   "metadata": {},
   "source": [
    "## Getting Started"
   ]
  },
  {
   "cell_type": "code",
   "execution_count": 2,
   "metadata": {},
   "outputs": [
    {
     "name": "stdout",
     "output_type": "stream",
     "text": [
      "=====================================================================\n",
      "Assignment: Project 2\n",
      "OK, version v1.13.9\n",
      "=====================================================================\n",
      "\n"
     ]
    }
   ],
   "source": [
    "# Run this cell to set up your notebook\n",
    "import seaborn as sns\n",
    "import csv\n",
    "import numpy as np\n",
    "import pandas as pd\n",
    "import matplotlib.pyplot as plt\n",
    "%matplotlib inline\n",
    "sns.set()\n",
    "sns.set_context(\"talk\")\n",
    "\n",
    "from IPython.display import display, Latex, Markdown, HTML, Javascript\n",
    "from client.api.notebook import Notebook\n",
    "ok = Notebook('proj2.ok')"
   ]
  },
  {
   "cell_type": "code",
   "execution_count": 116,
   "metadata": {
    "scrolled": true
   },
   "outputs": [
    {
     "name": "stdout",
     "output_type": "stream",
     "text": [
      "\n",
      "Open the following URL:\n",
      "\n",
      "https://okpy.org/client/login/\n",
      "\n",
      "After logging in, copy the code from the web page and paste it into the box.\n",
      "Then press the \"Enter\" key on your keyboard.\n",
      "\n",
      "Paste your code here: E5FHfa3ROhRdJfXlGficM7wkvONf9s\n",
      "Successfully logged in as sophieshangfei@berkeley.edu\n"
     ]
    }
   ],
   "source": [
    "# Log into OkPy.\n",
    "# You might need to change this to ok.auth(force=True) if you get an error\n",
    "ok.auth(force=True)"
   ]
  },
  {
   "cell_type": "markdown",
   "metadata": {},
   "source": [
    "For your convenience, run this cell to highlight the written response cells in light blue. Only the highlighted cells will be converted to the GradeScope PDF, so put your written answers there.\n",
    "\n",
    "Unfortunately, you'll have to run this each time you open your notebook to highlight cells."
   ]
  },
  {
   "cell_type": "code",
   "execution_count": 3,
   "metadata": {},
   "outputs": [
    {
     "data": {
      "application/javascript": [
       "\n",
       "Jupyter.notebook.get_cells().map(function(cell) {\n",
       "  var tags = cell.metadata.tags\n",
       "  if (tags && tags.indexOf('written') >= 0)\n",
       "    cell.element.css('background-color', '#efefff')\n",
       "})\n"
      ],
      "text/plain": [
       "<IPython.core.display.Javascript object>"
      ]
     },
     "metadata": {},
     "output_type": "display_data"
    }
   ],
   "source": [
    "highlight_cells = '''\n",
    "Jupyter.notebook.get_cells().map(function(cell) {\n",
    "  var tags = cell.metadata.tags\n",
    "  if (tags && tags.indexOf('written') >= 0)\n",
    "    cell.element.css('background-color', '#efefff')\n",
    "})\n",
    "'''\n",
    "display(Javascript(highlight_cells))"
   ]
  },
  {
   "cell_type": "markdown",
   "metadata": {},
   "source": [
    "## Loading in the Data\n",
    "\n",
    "The dataset consists of email messages and their labels (0 for ham, 1 for spam). The training set contains 8348 labeled examples, and the test set contains 1000 unlabeled examples.\n",
    "\n",
    "Run the following cells to load in the data into DataFrames.\n",
    "\n",
    "The `train` DataFrame contains labeled data that you will use to train your model. It contains three columns:\n",
    "\n",
    "1. `id`: An identifier for the training example.\n",
    "1. `subject`: The subject of the email\n",
    "1. `email`: The text of the email.\n",
    "1. `spam`: 1 if the email was spam, 0 if the email was ham (not spam).\n",
    "\n",
    "The `test` DataFrame contains another set of 1000 unlabeled examples. You will predict labels for these examples and submit your predictions to Kaggle for evaluation."
   ]
  },
  {
   "cell_type": "code",
   "execution_count": 4,
   "metadata": {},
   "outputs": [
    {
     "data": {
      "text/html": [
       "<div>\n",
       "<style>\n",
       "    .dataframe thead tr:only-child th {\n",
       "        text-align: right;\n",
       "    }\n",
       "\n",
       "    .dataframe thead th {\n",
       "        text-align: left;\n",
       "    }\n",
       "\n",
       "    .dataframe tbody tr th {\n",
       "        vertical-align: top;\n",
       "    }\n",
       "</style>\n",
       "<table border=\"1\" class=\"dataframe\">\n",
       "  <thead>\n",
       "    <tr style=\"text-align: right;\">\n",
       "      <th></th>\n",
       "      <th>id</th>\n",
       "      <th>subject</th>\n",
       "      <th>email</th>\n",
       "      <th>spam</th>\n",
       "    </tr>\n",
       "  </thead>\n",
       "  <tbody>\n",
       "    <tr>\n",
       "      <th>0</th>\n",
       "      <td>0</td>\n",
       "      <td>Subject: A&amp;L Daily to be auctioned in bankrupt...</td>\n",
       "      <td>url: http://boingboing.net/#85534171\\n date: n...</td>\n",
       "      <td>0</td>\n",
       "    </tr>\n",
       "    <tr>\n",
       "      <th>1</th>\n",
       "      <td>1</td>\n",
       "      <td>Subject: Wired: \"Stronger ties between ISPs an...</td>\n",
       "      <td>url: http://scriptingnews.userland.com/backiss...</td>\n",
       "      <td>0</td>\n",
       "    </tr>\n",
       "    <tr>\n",
       "      <th>2</th>\n",
       "      <td>2</td>\n",
       "      <td>Subject: It's just too small                  ...</td>\n",
       "      <td>&lt;html&gt;\\n &lt;head&gt;\\n &lt;/head&gt;\\n &lt;body&gt;\\n &lt;font siz...</td>\n",
       "      <td>1</td>\n",
       "    </tr>\n",
       "    <tr>\n",
       "      <th>3</th>\n",
       "      <td>3</td>\n",
       "      <td>Subject: liberal defnitions\\n</td>\n",
       "      <td>depends on how much over spending vs. how much...</td>\n",
       "      <td>0</td>\n",
       "    </tr>\n",
       "    <tr>\n",
       "      <th>4</th>\n",
       "      <td>4</td>\n",
       "      <td>Subject: RE: [ILUG] Newbie seeks advice - Suse...</td>\n",
       "      <td>hehe sorry but if you hit caps lock twice the ...</td>\n",
       "      <td>0</td>\n",
       "    </tr>\n",
       "  </tbody>\n",
       "</table>\n",
       "</div>"
      ],
      "text/plain": [
       "   id                                            subject  \\\n",
       "0   0  Subject: A&L Daily to be auctioned in bankrupt...   \n",
       "1   1  Subject: Wired: \"Stronger ties between ISPs an...   \n",
       "2   2  Subject: It's just too small                  ...   \n",
       "3   3                      Subject: liberal defnitions\\n   \n",
       "4   4  Subject: RE: [ILUG] Newbie seeks advice - Suse...   \n",
       "\n",
       "                                               email  spam  \n",
       "0  url: http://boingboing.net/#85534171\\n date: n...     0  \n",
       "1  url: http://scriptingnews.userland.com/backiss...     0  \n",
       "2  <html>\\n <head>\\n </head>\\n <body>\\n <font siz...     1  \n",
       "3  depends on how much over spending vs. how much...     0  \n",
       "4  hehe sorry but if you hit caps lock twice the ...     0  "
      ]
     },
     "execution_count": 4,
     "metadata": {},
     "output_type": "execute_result"
    }
   ],
   "source": [
    "train = pd.read_csv('train.csv')\n",
    "# We lower case the emails to make them easier to work with\n",
    "train['email'] = train['email'].str.lower()\n",
    "train.head()"
   ]
  },
  {
   "cell_type": "code",
   "execution_count": 5,
   "metadata": {},
   "outputs": [
    {
     "data": {
      "text/html": [
       "<div>\n",
       "<style>\n",
       "    .dataframe thead tr:only-child th {\n",
       "        text-align: right;\n",
       "    }\n",
       "\n",
       "    .dataframe thead th {\n",
       "        text-align: left;\n",
       "    }\n",
       "\n",
       "    .dataframe tbody tr th {\n",
       "        vertical-align: top;\n",
       "    }\n",
       "</style>\n",
       "<table border=\"1\" class=\"dataframe\">\n",
       "  <thead>\n",
       "    <tr style=\"text-align: right;\">\n",
       "      <th></th>\n",
       "      <th>id</th>\n",
       "      <th>subject</th>\n",
       "      <th>email</th>\n",
       "    </tr>\n",
       "  </thead>\n",
       "  <tbody>\n",
       "    <tr>\n",
       "      <th>0</th>\n",
       "      <td>0</td>\n",
       "      <td>Subject: CERT Advisory CA-2002-21 Vulnerabilit...</td>\n",
       "      <td>\\n \\n -----begin pgp signed message-----\\n \\n ...</td>\n",
       "    </tr>\n",
       "    <tr>\n",
       "      <th>1</th>\n",
       "      <td>1</td>\n",
       "      <td>Subject: ADV: Affordable Life Insurance ddbfk\\n</td>\n",
       "      <td>low-cost term-life insurance!\\n save up to 70%...</td>\n",
       "    </tr>\n",
       "    <tr>\n",
       "      <th>2</th>\n",
       "      <td>2</td>\n",
       "      <td>Subject: CAREER OPPORTUNITY.  WORK FROM HOME\\n</td>\n",
       "      <td>------=_nextpart_000_00a0_03e30a1a.b1804b54\\n ...</td>\n",
       "    </tr>\n",
       "    <tr>\n",
       "      <th>3</th>\n",
       "      <td>3</td>\n",
       "      <td>Subject: Marriage makes both sexes happy\\n</td>\n",
       "      <td>url: http://www.newsisfree.com/click/-3,848315...</td>\n",
       "    </tr>\n",
       "    <tr>\n",
       "      <th>4</th>\n",
       "      <td>4</td>\n",
       "      <td>Subject: Re: [SAtalk] SA very slow (hangs?) on...</td>\n",
       "      <td>on thursday 29 august 2002 16:39 cet mike burg...</td>\n",
       "    </tr>\n",
       "  </tbody>\n",
       "</table>\n",
       "</div>"
      ],
      "text/plain": [
       "   id                                            subject  \\\n",
       "0   0  Subject: CERT Advisory CA-2002-21 Vulnerabilit...   \n",
       "1   1    Subject: ADV: Affordable Life Insurance ddbfk\\n   \n",
       "2   2     Subject: CAREER OPPORTUNITY.  WORK FROM HOME\\n   \n",
       "3   3         Subject: Marriage makes both sexes happy\\n   \n",
       "4   4  Subject: Re: [SAtalk] SA very slow (hangs?) on...   \n",
       "\n",
       "                                               email  \n",
       "0  \\n \\n -----begin pgp signed message-----\\n \\n ...  \n",
       "1  low-cost term-life insurance!\\n save up to 70%...  \n",
       "2  ------=_nextpart_000_00a0_03e30a1a.b1804b54\\n ...  \n",
       "3  url: http://www.newsisfree.com/click/-3,848315...  \n",
       "4  on thursday 29 august 2002 16:39 cet mike burg...  "
      ]
     },
     "execution_count": 5,
     "metadata": {},
     "output_type": "execute_result"
    }
   ],
   "source": [
    "test = pd.read_csv('test.csv')\n",
    "test['email'] = test['email'].str.lower()\n",
    "test.head()"
   ]
  },
  {
   "cell_type": "markdown",
   "metadata": {},
   "source": [
    "### Question 1\n",
    "\n",
    "In the cell below, print the text of the first ham and the first spam email in the training set. Then, discuss one thing you notice that is different between the two."
   ]
  },
  {
   "cell_type": "code",
   "execution_count": 6,
   "metadata": {
    "tags": [
     "written",
     "q01",
     "student"
    ]
   },
   "outputs": [
    {
     "name": "stdout",
     "output_type": "stream",
     "text": [
      "Subject: A&L Daily to be auctioned in bankruptcy\n",
      "\n",
      "Subject: It's just too small                    HLOY\n",
      "\n"
     ]
    },
    {
     "data": {
      "text/markdown": [
       "\n",
       "The ham email has a better subject than the ham email. Better as in a clear and concise. \n",
       "It also doesn't involve weird spacing and words like \"HLOY\"\n"
      ],
      "text/plain": [
       "<IPython.core.display.Markdown object>"
      ]
     },
     "metadata": {},
     "output_type": "display_data"
    }
   ],
   "source": [
    "# Print the text of the first ham and the first spam emails. Then, fill in your response in the q01 variable:\n",
    "\n",
    "print(train['subject'][0])\n",
    "print(train['subject'][2])\n",
    "\n",
    "q01 = '''\n",
    "The ham email has a better subject than the ham email. Better as in a clear and concise. \n",
    "It also doesn't involve weird spacing and words like \"HLOY\"\n",
    "'''\n",
    "display(Markdown(q01))"
   ]
  },
  {
   "cell_type": "markdown",
   "metadata": {},
   "source": [
    "## Our First Features\n",
    "\n",
    "We would like to take the text of an email and predict whether the text is ham or spam. This is a *classification* problem, so we will use logistic regression to make a classifier.\n",
    "\n",
    "Recall that the input to logistic regression is a matrix $X$ that contains numeric values only. Unfortunately, our data are text, not numbers. To address this, we can create numeric features derived from the email text and use those features for logistic regression.\n",
    "\n",
    "Each row of $X$ is derived from one email example. Each column of $X$ is one feature. We'll guide you through creating a simple feature, and you'll create more interesting ones when you are trying to increase your accuracy.\n",
    "\n",
    "### Question 2\n",
    "\n",
    "Create a function called `words_in_text` that takes in a list of words and the text of an email. It outputs a pandas Series containing either a 0 or a 1 for each word in the list. The value of the Series should be 0 if the word doesn't appear in the text and 1 if the word does."
   ]
  },
  {
   "cell_type": "code",
   "execution_count": 7,
   "metadata": {
    "collapsed": true,
    "tags": [
     "student"
    ]
   },
   "outputs": [],
   "source": [
    "def words_in_text(words, text):\n",
    "    '''\n",
    "    Args:\n",
    "        `words` (list of str): words to find\n",
    "        `text` (str): string to search in\n",
    "    \n",
    "    Returns:\n",
    "        Series containing either 0 or 1 for each word in words\n",
    "        (0 if the word is not in text, 1 if the word is).\n",
    "    '''\n",
    "    return [1 if t in text else 0 for t in words]\n",
    "\n",
    "# If these don't error, your function outputs the correct output for these examples\n",
    "assert np.allclose(words_in_text(['hello'], 'hello world'),\n",
    "                   [1])\n",
    "assert np.allclose(words_in_text(['hello', 'bye', 'world'], 'hello world hello'),\n",
    "                   [1, 0, 1])"
   ]
  },
  {
   "cell_type": "markdown",
   "metadata": {},
   "source": [
    "### Question 3\n",
    "\n",
    "Now, create a function called `words_in_texts` that takes in a list of words and a pandas Series of email texts. It should output a 2-dimensional NumPy matrix containing one row for each email text. The row should contain the output of `words_in_text` for each example. For example:\n",
    "\n",
    "```python\n",
    ">>> words_in_texts(['hello', 'bye', 'world'], pd.Series(['hello', 'hello world hello']))\n",
    "array([[1, 0, 0],\n",
    "       [1, 0, 1]])\n",
    "```\n",
    "\n",
    "You should be able to use the `.apply` and `.as_matrix` functions to implement this."
   ]
  },
  {
   "cell_type": "code",
   "execution_count": 8,
   "metadata": {
    "collapsed": true,
    "tags": [
     "student"
    ]
   },
   "outputs": [],
   "source": [
    "def words_in_texts(words, texts):\n",
    "    '''\n",
    "    Args:\n",
    "        `words` (list of str): words to find\n",
    "        `texts` (Series of str): strings to search in\n",
    "    \n",
    "    Returns:\n",
    "        NumPy array of 0s and 1s with shape (n, p) where n is the\n",
    "        number of texts and p is the number of words.\n",
    "    '''\n",
    "    return np.array([words_in_text(words, x) for x in texts])\n",
    "\n",
    "# If these don't error, your function outputs the correct output for these examples\n",
    "\n",
    "assert np.allclose(words_in_texts(['hello', 'bye', 'world'], pd.Series(['hello', 'hello world hello'])),\n",
    "                   np.array([[1, 0, 0], [1, 0, 1]]))\n",
    "#words_in_texts(['hello', 'bye', 'world'], pd.Series(['hello', 'hello world hello']))"
   ]
  },
  {
   "cell_type": "markdown",
   "metadata": {},
   "source": [
    "## Classification\n",
    "\n",
    "Notice that the output of `words_in_texts` is a numeric matrix containing features for each email. This means we can use it directly to train a classifier.\n",
    "\n",
    "### Question 4\n",
    "\n",
    "We've given you 5 words that might be useful as features to distinguish spam/ham emails. Use these words as well as the `train` DataFrame to create two NumPy arrays: `X_train` and `y_train`.\n",
    "\n",
    "`X_train` should be a matrix of 0s and 1s created by using your `words_in_texts` function on all the emails in the training set.\n",
    "\n",
    "`y_train` should be vector of the correct labels for each email in the training set."
   ]
  },
  {
   "cell_type": "code",
   "execution_count": 9,
   "metadata": {
    "scrolled": true,
    "tags": [
     "student"
    ]
   },
   "outputs": [
    {
     "data": {
      "text/plain": [
       "(array([[0, 1, 0, 0, 0],\n",
       "        [0, 0, 0, 0, 0],\n",
       "        [0, 0, 0, 0, 0],\n",
       "        [0, 0, 0, 0, 1],\n",
       "        [0, 0, 0, 0, 0]]), 0    0\n",
       " 1    0\n",
       " 2    1\n",
       " 3    0\n",
       " 4    0\n",
       " Name: spam, dtype: int64)"
      ]
     },
     "execution_count": 9,
     "metadata": {},
     "output_type": "execute_result"
    }
   ],
   "source": [
    "some_words = ['drug', 'bank', 'prescription', 'memo', 'private']\n",
    "X_train = words_in_texts(some_words, train['email'])\n",
    "#X_test = words_in_texts(some_words, test['email'])\n",
    "y_train = train['spam']\n",
    "X_train[:5], y_train[:5]"
   ]
  },
  {
   "cell_type": "markdown",
   "metadata": {},
   "source": [
    "### Question 5\n",
    "\n",
    "Now we have matrices we can give to scikit-learn! Using the [`LogisticRegression`](http://scikit-learn.org/stable/modules/generated/sklearn.linear_model.LogisticRegression.html) classifier, train a logistic regression model using `X_train` and `y_train`. Then, output the accuracy of the model in the cell below. You should get an accuracy of around 0.7557."
   ]
  },
  {
   "cell_type": "code",
   "execution_count": 10,
   "metadata": {
    "tags": [
     "student"
    ]
   },
   "outputs": [
    {
     "data": {
      "text/plain": [
       "0.75574988021082889"
      ]
     },
     "execution_count": 10,
     "metadata": {},
     "output_type": "execute_result"
    }
   ],
   "source": [
    "from sklearn.linear_model import LogisticRegression\n",
    "clf = LogisticRegression()\n",
    "clf.fit(X_train, y_train)\n",
    "clf.score(X_train, y_train)\n"
   ]
  },
  {
   "cell_type": "code",
   "execution_count": 11,
   "metadata": {},
   "outputs": [
    {
     "data": {
      "text/plain": [
       "0.7436511739338764"
      ]
     },
     "execution_count": 11,
     "metadata": {},
     "output_type": "execute_result"
    }
   ],
   "source": [
    "y_train.value_counts()\n",
    "max(y_train.mean(), 1 - y_train.mean())\n",
    "# the dumbest model (guessing the most frequent response) can have a 0.74 accuracy rate "
   ]
  },
  {
   "cell_type": "code",
   "execution_count": 12,
   "metadata": {
    "collapsed": true
   },
   "outputs": [],
   "source": [
    "from sklearn import metrics\n",
    "y_predict = clf.predict(X_train)\n",
    "confusion = metrics.confusion_matrix(y_train, y_predict)\n",
    "True_pos = confusion[1, 1]\n",
    "True_neg = confusion[0, 0]\n",
    "False_pos = confusion[0, 1]\n",
    "False_neg = confusion[1, 0]"
   ]
  },
  {
   "cell_type": "code",
   "execution_count": null,
   "metadata": {
    "collapsed": true
   },
   "outputs": [],
   "source": []
  },
  {
   "cell_type": "code",
   "execution_count": 13,
   "metadata": {},
   "outputs": [
    {
     "data": {
      "text/plain": [
       "0.11121495327102804"
      ]
     },
     "execution_count": 13,
     "metadata": {},
     "output_type": "execute_result"
    }
   ],
   "source": [
    "sensitivity = True_pos / float(False_neg + True_pos)\n",
    "sensitivity"
   ]
  },
  {
   "cell_type": "code",
   "execution_count": 14,
   "metadata": {},
   "outputs": [
    {
     "data": {
      "text/plain": [
       "0.97793170103092786"
      ]
     },
     "execution_count": 14,
     "metadata": {},
     "output_type": "execute_result"
    }
   ],
   "source": [
    "specificity = True_neg/ float(False_pos + True_neg)\n",
    "specificity"
   ]
  },
  {
   "cell_type": "code",
   "execution_count": 15,
   "metadata": {
    "collapsed": true
   },
   "outputs": [],
   "source": [
    "#not sensitive\n",
    "#highly specific"
   ]
  },
  {
   "cell_type": "code",
   "execution_count": 16,
   "metadata": {},
   "outputs": [
    {
     "data": {
      "text/plain": [
       "(0.11121495327102804, 0.97793170103092786)"
      ]
     },
     "execution_count": 16,
     "metadata": {},
     "output_type": "execute_result"
    }
   ],
   "source": [
    "# suppose classifier predicts 0 for every email\n",
    "y_suppose_predict = [0]*8348\n",
    "confusion_suppose = metrics.confusion_matrix(y_train, y_suppose_predict)\n",
    "True_sup_pos = confusion[1, 1]\n",
    "True_sup_neg = confusion[0, 0]\n",
    "False_sup_pos = confusion[0, 1]\n",
    "False_sup_neg = confusion[1, 0]\n",
    "sensitivity_sup = True_sup_pos/ float(False_sup_neg + True_sup_pos)\n",
    "specificity_sup = True_sup_neg/ float(False_sup_pos + True_sup_neg)\n",
    "sensitivity_sup,specificity_sup"
   ]
  },
  {
   "cell_type": "markdown",
   "metadata": {},
   "source": [
    "### Question 6\n",
    "\n",
    "That doesn't seem too shabby! But the classifier you made above isn't as great as you might think. Recall that we have other ways of evaluating a classifier:\n",
    "\n",
    "*Sensitivity* (also called *recall*) is the rate of true positives; in this case, the proportion of spam emails that are classified as spam.\n",
    "\n",
    "*Specificity* (also called *precision*) is the rate of true negatives; in this case, the proportion of ham emails that are classified as ham.\n",
    "\n",
    "Answer the following questions in the light blue cell below. You may create other cells for scratch work, but your final answers\n",
    "must appear in the light blue cell.\n",
    "\n",
    "0. Suppose we have a classifier that just predicts 0 (ham) for every email. What is its sensitivity? Its specificity?\n",
    "0. Suppose we have a classifier that just predicts 0 (ham) for every email. What is its accuracy on the training set?\n",
    "0. Our logistic regression classifier got 75% prediction accuracy (number of correct predictions / total). Why is this a poor accuracy?\n",
    "0. What is the sensitivity of the logistic regression classifier above? The specificity? What kind of mistake is our classifier more likely to make: false positives or false negatives?\n",
    "0. Given the word features we gave you above, name one reason this classifier is performing poorly."
   ]
  },
  {
   "cell_type": "markdown",
   "metadata": {
    "tags": [
     "student",
     "written",
     "q06"
    ]
   },
   "source": [
    "1. *Suppose we have a classifier that just predicts 0 (ham) for every email, sensitivity = 0.11121495327102804, specificity = 0.97793170103092786 *\n",
    "0. *Suppose we have a classifier that just predicts 0 (ham) for every email, accuracy = 0.7436511739338764*\n",
    "0. *the dumbest model (guessing the most frequent response, in this case, 1) can have a 0.74 accuracy rate, which performs as well as our logistic regrssion classifier*\n",
    "0. *For the logistic regression classifier, specificity = 0.97793170103092786, sensitvity = 0.11121495327102804; false negatives is the mistake our classifier is more likely to make*\n",
    "0. *We don't have enough spam words to check*"
   ]
  },
  {
   "cell_type": "markdown",
   "metadata": {},
   "source": [
    "## Moving Forward\n",
    "\n",
    "With this in mind, it is now your assignment to make your classifier more accurate. In particular, in order to get full credit on the accuracy part of this assignment, you must get at least **88%** accuracy on the test set. To see your accuracy on the test set, you will use your classifier to predict every email in the `test` DataFrame and upload your predictions to Kaggle.\n",
    "\n",
    "To prevent you from fitting to the test set, you may only upload predictions to Kaggle twice per day. This means you should start early!\n",
    "\n",
    "Here are some ideas for improving your model:\n",
    "\n",
    "1. Finding better features based on the email text. For example, simple features that typically work for emails are:\n",
    "    1. Number of characters in the subject / body\n",
    "    1. Number of words in the subject / body\n",
    "    1. Use of punctuation (e.g., how many '!' were there?)\n",
    "    1. Number / percentage of capital letters \n",
    "    1. Whether or not the email is a reply to an earlier email or a forwarded email. \n",
    "    1. Using bag-of-words or [td-idf](http://www.tfidf.com/).\n",
    "1. Finding better words to use as features. Which words are the best at distinguishing emails? This requires digging into the email text itself. (To help you out, we've given you a set of [English stopwords](https://www.wikiwand.com/en/Stop_words) in `stopwords.csv`)\n",
    "1. Better data processing. For example, many emails contain HTML as well as text. You can consider extracting out the text from the HTML to help you find better words. Or, you can match HTML tags themselves, or even some combination of the two.\n",
    "1. Model selection. You can adjust parameters of your model (e.g., the regularization parameter) to achieve higher accuracy. \n",
    "\n",
    "Recall that you should use cross-validation to do feature and model selection properly! Otherwise, you will likely overfit to your training data.\n",
    "\n",
    "You may use whatever method you prefer in order to create features. However, we want to make it fair to students who are seeing these techniques for the first time.  As such, **you are only allowed to train logistic regression models and their regularized forms**. This means no random forest, k-nearest-neighbors, neural nets, etc.\n",
    "\n",
    "We will not give you a code skeleton to do this, so feel free to create as many cells as you need in order to tackle this task. However, you should show us your process as outlined here:"
   ]
  },
  {
   "cell_type": "markdown",
   "metadata": {},
   "source": [
    "### Feature/Model Selection Process\n",
    "\n",
    "In this following cell, describe the process of improving your model. You should use at least 2-3 sentences each to address the follow questions:\n",
    "\n",
    "1. How did you find better features for your model?\n",
    "2. What did you try that worked / didn't work?\n",
    "3. What was surprising in your search for good features?"
   ]
  },
  {
   "cell_type": "markdown",
   "metadata": {
    "tags": [
     "student",
     "written",
     "q_feature"
    ]
   },
   "source": [
    "1. *What Tom Did:* I observed the differences between spam and ham using array.head(). I confirmed some of these differences by actually calculating the numbers I was interested in (EDA 1 and 2). In addition, I began noticing huge repetitions of certain patterns in our training spam set, which I also used as features. <br>*What Sophie Did:* I read the above description very closely and chose those that can be easily validated.\n",
    "1. *What Tom Tried:* I tried using the \"RE\" in subject to indicate spam or ham. I also hypothesized that spam will use more uppercase. In my EDA, I discovered that it was true. However, both of these features only made our results marginally better. <br>*What Sophie Tried:* Stop words didn't work too well. However, punctuations and digits did work well.\n",
    "1. *What Tom found surprising:* For the uppercase, I thought I was really onto something really cool. However, spam only used slightly more uppercase characters. <br>*What Sophie found surprising:* I found the need to test for p-values surprising. However, by using p-values, I was able to make everything more systematic and determine which features are better."
   ]
  },
  {
   "cell_type": "markdown",
   "metadata": {},
   "source": [
    "### EDA\n",
    "\n",
    "In the four light blue cells below, show us four different visualizations that you used to select features for your model. Each cell should output:\n",
    "\n",
    "1. A plot showing something meaningful about the data that helped you during feature / model selection.\n",
    "2. 2-3 sentences describing what you plotted and what its implications are for your features.\n",
    "\n",
    "Feel to create as many plots as you want in your process of feature selection, but select four interesting ones for the cells below.\n",
    "\n",
    "You should not show us more than one visualization for the same type of feature. For example, don't show us a bar chart of the number of emails that contain the word \"hello\" and a bar chart of the number of emails that contain the word \"world\". Each visualization should be conceptually distinct."
   ]
  },
  {
   "cell_type": "code",
   "execution_count": 17,
   "metadata": {
    "tags": [
     "student",
     "written",
     "q_eda1"
    ]
   },
   "outputs": [
    {
     "name": "stdout",
     "output_type": "stream",
     "text": [
      "Spam emails that contain RE: 26\n",
      "Spam emails that do not contain RE: 2114\n"
     ]
    },
    {
     "ename": "NameError",
     "evalue": "name 'name' is not defined",
     "output_type": "error",
     "traceback": [
      "\u001b[0;31m---------------------------------------------------------------------------\u001b[0m",
      "\u001b[0;31mNameError\u001b[0m                                 Traceback (most recent call last)",
      "\u001b[0;32m<ipython-input-17-ab4c8f245e46>\u001b[0m in \u001b[0;36m<module>\u001b[0;34m()\u001b[0m\n\u001b[1;32m     22\u001b[0m \u001b[0;34m\u001b[0m\u001b[0m\n\u001b[1;32m     23\u001b[0m \u001b[0mplt\u001b[0m\u001b[0;34m.\u001b[0m\u001b[0mbar\u001b[0m\u001b[0;34m(\u001b[0m\u001b[0;34m[\u001b[0m\u001b[0;36m0\u001b[0m\u001b[0;34m,\u001b[0m\u001b[0;36m1\u001b[0m\u001b[0;34m]\u001b[0m\u001b[0;34m,\u001b[0m \u001b[0;34m[\u001b[0m\u001b[0myes_norm\u001b[0m\u001b[0;34m,\u001b[0m \u001b[0mnon_norm\u001b[0m\u001b[0;34m]\u001b[0m\u001b[0;34m,\u001b[0m \u001b[0mwidth\u001b[0m \u001b[0;34m=\u001b[0m \u001b[0;36m0.5\u001b[0m\u001b[0;34m)\u001b[0m\u001b[0;34m\u001b[0m\u001b[0m\n\u001b[0;32m---> 24\u001b[0;31m \u001b[0mplt\u001b[0m\u001b[0;34m.\u001b[0m\u001b[0mxticks\u001b[0m\u001b[0;34m(\u001b[0m\u001b[0mname\u001b[0m\u001b[0;34m,\u001b[0m \u001b[0;34m[\u001b[0m\u001b[0;34m\"Spam w/ RE\"\u001b[0m\u001b[0;34m,\u001b[0m\u001b[0;34m\"Spam w/o RE\"\u001b[0m\u001b[0;34m]\u001b[0m\u001b[0;34m)\u001b[0m\u001b[0;34m\u001b[0m\u001b[0m\n\u001b[0m",
      "\u001b[0;31mNameError\u001b[0m: name 'name' is not defined"
     ]
    },
    {
     "data": {
      "image/png": "[encoded data removed]",
      "text/plain": [
       "<matplotlib.figure.Figure at 0x11ccc7e80>"
      ]
     },
     "metadata": {},
     "output_type": "display_data"
    }
   ],
   "source": [
    "import re\n",
    "\n",
    "# Find total number of emails.\n",
    "# print(len(train)) # =8348\n",
    "# print(len(train[train['spam'] == 1])) # = 2140\n",
    "# print(len(train[train['spam'] == 0])) # = 6208\n",
    "\n",
    "# Find # of spam emails \n",
    "train_spam_only = train[train['spam'] == 1]\n",
    "\n",
    "# Find # of spam emails with RE in subject\n",
    "spam_with_RE = np.sum([1 if re.match('^Subject: (RE)|(Re)', str(subject)) else 0 for subject in train_spam_only['subject']])\n",
    "print(\"Spam emails that contain RE: \" + str(spam_with_RE))\n",
    "\n",
    "# Find # of spam emails without RE in subject\n",
    "spam_with_no_RE = len(train_spam_only) - spam_with_RE\n",
    "print(\"Spam emails that do not contain RE: \" + str(spam_with_no_RE))\n",
    "\n",
    "# Normalize\n",
    "non_norm = spam_with_no_RE/len(train_spam_only)\n",
    "yes_norm = spam_with_RE/len(train_spam_only)\n",
    "\n",
    "plt.bar([0,1], [yes_norm, non_norm], width = 0.5)\n",
    "plt.xticks(name, [\"Spam w/ RE\",\"Spam w/o RE\"])"
   ]
  },
  {
   "cell_type": "markdown",
   "metadata": {},
   "source": [
    "Here, we've plotted all the spam emails that are replies vs. not replies, normalized against the number of spam emails total.\n",
    "\n",
    "From this graph, we can tell that the majority of spam emails are NOT replies. This might be a cool feature to use; if an email is a reply, then it's *most likely* not spam."
   ]
  },
  {
   "cell_type": "code",
   "execution_count": 18,
   "metadata": {
    "tags": [
     "student",
     "written",
     "q_eda2"
    ]
   },
   "outputs": [
    {
     "name": "stdout",
     "output_type": "stream",
     "text": [
      "Average number of UPPERCASE in HAM emails: 5.28527706186\n",
      "Average number of UPPERCASE in SPAM emails: 8.39392523364\n"
     ]
    },
    {
     "data": {
      "text/plain": [
       "<matplotlib.text.Text at 0x11d78f470>"
      ]
     },
     "execution_count": 18,
     "metadata": {},
     "output_type": "execute_result"
    },
    {
     "data": {
      "image/png": "[encoded data removed]",
      "text/plain": [
       "<matplotlib.figure.Figure at 0x11d633630>"
      ]
     },
     "metadata": {},
     "output_type": "display_data"
    }
   ],
   "source": [
    "# This is the second graded EDA cell\n",
    "\n",
    "# Exploration - BEGIN\n",
    "# arr = []\n",
    "# arr_text = []\n",
    "# for subject in train_not_spam['subject']:\n",
    "#     num_ups = len([x for x in str(subject) if x.isupper()])\n",
    "#     if num_ups > 18:\n",
    "#         arr.append(1)\n",
    "#         arr_text.append(subject)\n",
    "#     else:\n",
    "#         arr.append(0)\n",
    "# Exploration - END\n",
    "\n",
    "# Find # of emails that are not spam that have subjects w/ over 20 instances of UPPERCASE\n",
    "train_not_spam = train[train['spam'] == 0]\n",
    "EDA2_not_spam = np.mean([sum(map(str.isupper, str(subject))) for subject in train_not_spam['subject']])\n",
    "print(\"Average number of UPPERCASE in HAM emails: \" + str(EDA2_not_spam))\n",
    "\n",
    "# Find # of emails that are spam that have subjects w/ over 20 instances of UPPERCASE\n",
    "train_spam = train[train['spam'] == 1]\n",
    "EDA2_yes_spam = np.mean([sum(map(str.isupper, str(subject))) for subject in train_spam['subject']])\n",
    "print(\"Average number of UPPERCASE in SPAM emails: \" + str(EDA2_yes_spam))\n",
    "\n",
    "plt.bar( [0,1], (EDA2_not_spam, EDA2_yes_spam), width = 0.5)\n",
    "plt.ylabel('# of UPPERCASE')\n",
    "plt.xticks([0,1], (\"HAM\",\"SPAM\"))\n",
    "plt.title(\"Average Instances of UPPERCASE: HAM vs. SPAM\")"
   ]
  },
  {
   "cell_type": "markdown",
   "metadata": {},
   "source": [
    "Here, we've plotted the average number of instances of uppercase for spam vs ham.\n",
    "\n",
    "We were expecting spam to contain a ton more uppercases, but that's not necessarily the case. This may or may not be a good feature to use."
   ]
  },
  {
   "cell_type": "code",
   "execution_count": 19,
   "metadata": {
    "tags": [
     "student",
     "written",
     "q_eda4"
    ]
   },
   "outputs": [
    {
     "data": {
      "image/png": "[encoded data removed]",
      "text/plain": [
       "<matplotlib.figure.Figure at 0x1234542e8>"
      ]
     },
     "metadata": {},
     "output_type": "display_data"
    },
    {
     "data": {
      "text/plain": [
       "Ttest_indResult(statistic=3.9242558031212815, pvalue=9.2212999523423478e-05)"
      ]
     },
     "execution_count": 19,
     "metadata": {},
     "output_type": "execute_result"
    }
   ],
   "source": [
    "import nltk\n",
    "import csv\n",
    "from nltk import word_tokenize, WordNetLemmatizer\n",
    "# word_tokenize: splitting the text by white spaces and punctuation marks\n",
    "# WordNetLemmatizer: linking the different forms of the same word (for example, “price” and “prices”, “is” and “are”) to each other\n",
    "def cleaning(sentence):\n",
    "    tokens = word_tokenize(sentence)\n",
    "    return [WordNetLemmatizer().lemmatize(word.lower()) for word in tokens]\n",
    "\n",
    "cleaned_text_spam = cleaning(str(train['email'][train['spam'] == 1])) # way too many stuff like ':',  '...', 'url' & punc\n",
    "\n",
    "stoplist = pd.read_csv('stopwords.csv', header=None)\n",
    "def no_stop_w(token_list, stop_list):\n",
    "    return [word for word in token_list if word not in stop_list]\n",
    "# no_stop_w(cleaned_text, stoplist)\n",
    "# the stop words given are not too helpful\n",
    "from nltk.corpus import stopwords\n",
    "stoplist = stoplist.append(stopwords.words('english'))\n",
    "cleaned_no_stop_spam = no_stop_w(cleaned_text_spam, stoplist)\n",
    "\n",
    "# number of stop words in spam:\n",
    "n_stop_spam = len(cleaned_text_spam)-len(cleaned_no_stop_spam) #somehow this is zero\n",
    "\n",
    "# also look at punctuations\n",
    "from nltk.tokenize import RegexpTokenizer\n",
    "tokenizer = RegexpTokenizer(r'\\w+')\n",
    "nopunc_spam = tokenizer.tokenize(str(cleaned_no_stop_spam))\n",
    "\n",
    "### repeat the above step for ham\n",
    "cleaned_text_ham = cleaning(str(train['email'][train['spam'] == 0]))\n",
    "cleaned_no_stop_ham = no_stop_w(cleaned_text_ham, stoplist)\n",
    "# number of stop words in ham:\n",
    "n_stop_ham = len(cleaned_text_ham)-len(cleaned_no_stop_ham)  #somehow this is zero\n",
    "nopunc_ham = tokenizer.tokenize(str(cleaned_no_stop_ham))\n",
    "\n",
    "### preparing for histogram & t-test ###\n",
    "len(cleaned_text_spam)-len(nopunc_spam), len(cleaned_no_stop_ham)-len(nopunc_ham) #(257, 99) more punc in spam\n",
    "tag_spam = list()\n",
    "for p in nopunc_spam:\n",
    "    if p in cleaned_text_spam:\n",
    "        tag_spam.append(1)\n",
    "    else:\n",
    "        tag_spam.append(0)\n",
    "tag_ham = list()\n",
    "for p in nopunc_ham:\n",
    "    if p in cleaned_text_ham:\n",
    "        tag_ham.append(1)\n",
    "    else:\n",
    "        tag_ham.append(0)\n",
    "        \n",
    "plt.hist(tag_spam, alpha=0.5, label='spam')\n",
    "plt.hist(tag_ham, alpha=0.5, label='ham')\n",
    "plt.legend(loc='upper left')\n",
    "plt.title('puncutations')\n",
    "plt.ylabel(\"# of Instances\")\n",
    "plt.show()\n",
    "from scipy import stats\n",
    "stats.ttest_ind(tag_spam, tag_ham, equal_var = False) #pvalue=9.2212999523423478e-05"
   ]
  },
  {
   "cell_type": "markdown",
   "metadata": {},
   "source": [
    "Here we compare the amount of punctuations in spam and ham. By comparing the amount of punctuations in ham and spam through a t-test, I know the p-value is 9.2212999523423478e-05. As such, I know there are more punctuations in spam than ham, and such difference is not by chance. "
   ]
  },
  {
   "cell_type": "code",
   "execution_count": 20,
   "metadata": {},
   "outputs": [
    {
     "data": {
      "image/png": "[encoded data removed]",
      "text/plain": [
       "<matplotlib.figure.Figure at 0x1235ff518>"
      ]
     },
     "metadata": {},
     "output_type": "display_data"
    },
    {
     "data": {
      "text/plain": [
       "Ttest_indResult(statistic=-2.6139023744745482, pvalue=0.0089631936244911857)"
      ]
     },
     "execution_count": 20,
     "metadata": {},
     "output_type": "execute_result"
    }
   ],
   "source": [
    "from collections import Counter\n",
    "a = Counter(dict(Counter(cleaned_text_spam)))\n",
    "b = Counter(dict(Counter(cleaned_text_ham)))\n",
    "a_common = a.most_common(50)\n",
    "b_common = b.most_common(50)\n",
    "features = set(cleaned_text_spam) - set(cleaned_text_ham)\n",
    "features # loads of numbers\n",
    "# check for numbers\n",
    "tokenizer_num = RegexpTokenizer(r'\\d+')\n",
    "nonum_spam = tokenizer_num.tokenize(str(cleaned_no_stop_spam))\n",
    "nonum_ham = tokenizer_num.tokenize(str(cleaned_no_stop_ham))\n",
    "\n",
    "### preparing for histogram & t-test ###\n",
    "import re\n",
    "li = len(cleaned_text_spam)-len(nonum_spam), len(cleaned_no_stop_ham)-len(nonum_ham) #(734, 573) more num in spam\n",
    "tag_num_spam = list()\n",
    "for p in str(cleaned_text_spam):\n",
    "    if bool(re.search(r'\\d+', p)):\n",
    "        tag_num_spam.append(1)\n",
    "    else:\n",
    "        tag_num_spam.append(0)\n",
    "        \n",
    "tag_num_ham = list()\n",
    "for p in str(cleaned_text_ham):\n",
    "    if bool(re.match(r'\\d+', p)):\n",
    "        tag_num_ham.append(1)\n",
    "    else:\n",
    "        tag_num_ham.append(0)\n",
    "        \n",
    "plt.hist(tag_num_spam, alpha=0.5, label='spam')\n",
    "plt.hist(tag_num_ham, alpha=0.5, label='ham')\n",
    "plt.title('digits')\n",
    "plt.legend(loc='upper right')\n",
    "plt.ylabel(\"# of Instances\")\n",
    "plt.show() #ham has no numbers in it\n",
    "from scipy import stats\n",
    "stats.ttest_ind(tag_num_spam, tag_num_ham, equal_var = False) #pvalue=0.0089631936244911857"
   ]
  },
  {
   "cell_type": "markdown",
   "metadata": {},
   "source": [
    "Here we compare the number of digits in ham and spam. By comparing the amount of digits in ham and spam through a t-test, I know the p-value is 0.0089631936244911857. As such, I know there are more digits in spam than ham, and such difference is not by chance. "
   ]
  },
  {
   "cell_type": "code",
   "execution_count": 21,
   "metadata": {
    "collapsed": true
   },
   "outputs": [],
   "source": [
    "tommies_arr = [1 if bool(re.search(r'\\d+', email)) else 0 for email in train['email']]\n",
    "\n",
    "EDA1_arr = np.array([1 if bool(re.search('^Subject: (RE)|(Re)', str(subject))) else 0 for subject in train['subject']])\n",
    "\n",
    "EDA2_arr = np.array([1 if sum(map(str.isupper, str(subject))) > 20 else 0 for subject in train['subject']])\n",
    "EDA3_arr = np.array([1 if sum(map(str.isupper, str(email))) > 50 else 0 for email in train['email']])\n",
    "\n",
    "\n",
    "tommies_arr_test = [1 if bool(re.search(r'\\d+', email)) else 0 for email in test['email']]\n",
    "\n",
    "EDA1_arr_test = np.array([1 if bool(re.search('^Subject: (RE)|(Re)', str(subject))) else 0 for subject in test['subject']])\n",
    "\n",
    "EDA2_arr_test = np.array([1 if sum(map(str.isupper, str(subject))) > 20 else 0 for subject in test['subject']])\n",
    "EDA3_arr_test = np.array([1 if sum(map(str.isupper, str(email))) > 50 else 0 for email in test['email']])\n",
    "\n"
   ]
  },
  {
   "cell_type": "code",
   "execution_count": 22,
   "metadata": {
    "collapsed": true
   },
   "outputs": [],
   "source": [
    "punctuation=['(', ')', '?', ':', ';', ',', '.', '!', '/', '\"', \"'\",'$','>','\\\\n']\n",
    "some_words = ['drug', 'bank', 'prescription', 'memo', 'private','url', '<html>\\n', 'penis', 'growth', 'inches', 'inheritance', 'money', 'cash', 'naked', 'porn', 'free', '\\n'] + punctuation\n",
    "X_train = words_in_texts(some_words, train['email'])\n",
    "X_train = np.column_stack((X_train, tommies_arr, EDA1_arr, EDA2_arr, EDA3_arr))\n",
    "\n",
    "X_test = words_in_texts(some_words, test['email'])\n",
    "X_test = np.column_stack((X_test, tommies_arr_test, EDA1_arr_test, EDA2_arr_test, EDA3_arr_test))\n",
    "\n",
    "y_train = train['spam']\n",
    "X_train[:5], y_train[:5]\n",
    "\n",
    "from sklearn.linear_model import LogisticRegression\n",
    "clf = LogisticRegression()\n",
    "clf.fit(X_train, y_train)\n",
    "clf.score(X_train, y_train)\n",
    "\n",
    "\n",
    "# Predict points from our test set\n",
    "test_predictions= clf.predict(X_test)"
   ]
  },
  {
   "cell_type": "markdown",
   "metadata": {},
   "source": [
    "### Making an ROC Curve\n",
    "\n",
    "It turns out that there's a tradeoff between sensitivity and specificity. In most cases we won't be able to get perfect sensitivity and specificity, so we have to select which of two we value more. For example, in the case of cancer screenings we value specificity more because false negatives are comparatively worse than false positives — a false negative means that a patient might not discover a disease until it's too late to treat, while a false positive means that a patient will probably have to take another screening.\n",
    "\n",
    "Recall that logistic regression calculates the probability that an example belongs to a certain class. Then, to classify an example we say that an email is spam if our classifier gives it >=0.5 probability of being spam. However, we can adjust that cutoff: we can say that an email is spam only if our classifier gives it >=0.7 probability of being spam, for example. This is how we can trade off sensitivity and specificity.\n",
    "\n",
    "The ROC (receiver operating charactistic) curve shows this trade off for each possible cutoff probability. We will discuss this during lecture, and you can also read [this blog post for more information.](https://www.theanalysisfactor.com/what-is-an-roc-curve/).\n",
    "\n",
    "In the light blue cell below, plot the ROC curve for your final classifier (the one you use to make predictions for Kaggle)."
   ]
  },
  {
   "cell_type": "code",
   "execution_count": 137,
   "metadata": {
    "tags": [
     "student",
     "written",
     "q_roc"
    ]
   },
   "outputs": [
    {
     "data": {
      "image/png": "[encoded data removed]",
      "text/plain": [
       "<matplotlib.figure.Figure at 0x117f16cc0>"
      ]
     },
     "metadata": {},
     "output_type": "display_data"
    }
   ],
   "source": [
    "from sklearn.metrics import roc_curve\n",
    "y_predict_prob = clf.predict_proba(X_train)\n",
    "false_pos_r, true_pos_r, thresholds = metrics.roc_curve(y_train, y_predict_prob[:,1])\n",
    "\n",
    "plt.plot(false_pos_r, true_pos_r)\n",
    "plt.xlim([0.0, 1.0])\n",
    "plt.ylim([0.0, 1.0])\n",
    "plt.rcParams['font.size'] = 12\n",
    "plt.title('ROC curve for Spam vs. Ham classifier')\n",
    "plt.xlabel('False Positive Rate (1 - Specificity)')\n",
    "plt.ylabel('True Positive Rate (Sensitivity)')\n",
    "plt.grid(True)\n",
    "# Note that you'll want to use the .predict_proba(...) method for your classifier\n",
    "# instead of .predict(...) so you get probabilities, not classes"
   ]
  },
  {
   "cell_type": "markdown",
   "metadata": {},
   "source": [
    "### Submitting to Kaggle\n",
    "\n",
    "The following code will write your predictions on the test dataset to a CSV, which you can submit to Kaggle. You may need to modify it to suit your needs.\n",
    "\n",
    "The code below assumes that you've saved your predictions in a 1-dimensional array called `test_predictions`.\n",
    "\n",
    "Remember that if you've performed transformations or featurization on the training data, you must also perform the same transformations on the test data in order to make predictions. For example, if you've created features for the words \"drug\" and \"money\" on the training data, you must also extract the same features in order to use scikit-learn's `.predict(...)` method.\n",
    "\n",
    "You should submit your CSV files to https://www.kaggle.com/t/433a6bca95f94a78a0d2a6e7e8b311c3"
   ]
  },
  {
   "cell_type": "code",
   "execution_count": 138,
   "metadata": {},
   "outputs": [
    {
     "name": "stdout",
     "output_type": "stream",
     "text": [
      "Created a CSV file: submission_2017-12-03T21:50:21.csv.\n",
      "You may now upload this CSV file to Kaggle for scoring.\n"
     ]
    }
   ],
   "source": [
    "from datetime import datetime\n",
    "\n",
    "# Assuming that your predictions on the test set are stored in a 1-dimensional array called\n",
    "# test_predictions. Feel free to modify this cell as long you create a CSV in the right format.\n",
    "assert isinstance(test_predictions, np.ndarray)\n",
    "assert test_predictions.shape == (1000, )\n",
    "\n",
    "submission_df = pd.DataFrame({\n",
    "    \"Id\": test['id'], \n",
    "    \"Class\": test_predictions,\n",
    "}, columns=['Id', 'Class'])\n",
    "\n",
    "timestamp = datetime.isoformat(datetime.now()).split(\".\")[0]\n",
    "\n",
    "submission_df.to_csv(\"submission_{}.csv\".format(timestamp), index=False)\n",
    "print('Created a CSV file: {}.'.format(\"submission_{}.csv\".format(timestamp)))\n",
    "print('You may now upload this CSV file to Kaggle for scoring.')"
   ]
  },
  {
   "cell_type": "markdown",
   "metadata": {},
   "source": [
    "## Submission\n",
    "\n",
    "Run the cell below to submit your notebook to OkPy:"
   ]
  },
  {
   "cell_type": "code",
   "execution_count": 143,
   "metadata": {},
   "outputs": [
    {
     "data": {
      "application/javascript": [
       "IPython.notebook.save_checkpoint();"
      ],
      "text/plain": [
       "<IPython.core.display.Javascript object>"
      ]
     },
     "metadata": {},
     "output_type": "display_data"
    },
    {
     "data": {
      "application/javascript": [
       "IPython.notebook.save_notebook();"
      ],
      "text/plain": [
       "<IPython.core.display.Javascript object>"
      ]
     },
     "metadata": {},
     "output_type": "display_data"
    },
    {
     "name": "stdout",
     "output_type": "stream",
     "text": [
      "Saving notebook... Saved 'proj2.ipynb'.\n",
      "Submit... 100% complete\n",
      "Submission successful for user: sophieshangfei@berkeley.edu\n",
      "URL: https://okpy.org/cal/ds100/fa17/proj2/submissions/Wn8XkE\n",
      "\n"
     ]
    }
   ],
   "source": [
    "_ = ok.submit()"
   ]
  },
  {
   "cell_type": "markdown",
   "metadata": {},
   "source": [
    "Now, run this cell to create a PDF to upload to Gradescope."
   ]
  },
  {
   "cell_type": "code",
   "execution_count": 144,
   "metadata": {
    "tags": [
     "student",
     "no-ok"
    ]
   },
   "outputs": [
    {
     "name": "stdout",
     "output_type": "stream",
     "text": [
      "Requirement already up-to-date: gs100 in /Users/SophieS/anaconda3/lib/python3.6/site-packages\n",
      "Requirement already up-to-date: nbformat>=4 in /Users/SophieS/anaconda3/lib/python3.6/site-packages (from gs100)\n",
      "Requirement already up-to-date: beautifulsoup4>=4 in /Users/SophieS/anaconda3/lib/python3.6/site-packages (from gs100)\n",
      "Requirement already up-to-date: toolz>=0.8 in /Users/SophieS/anaconda3/lib/python3.6/site-packages (from gs100)\n",
      "Requirement already up-to-date: nbconvert>=5 in /Users/SophieS/anaconda3/lib/python3.6/site-packages (from gs100)\n",
      "Requirement already up-to-date: pdfkit>=0.6 in /Users/SophieS/anaconda3/lib/python3.6/site-packages (from gs100)\n",
      "Requirement already up-to-date: PyPDF2>=1.26 in /Users/SophieS/anaconda3/lib/python3.6/site-packages (from gs100)\n",
      "Requirement already up-to-date: ipython_genutils in /Users/SophieS/anaconda3/lib/python3.6/site-packages (from nbformat>=4->gs100)\n",
      "Requirement already up-to-date: traitlets>=4.1 in /Users/SophieS/anaconda3/lib/python3.6/site-packages (from nbformat>=4->gs100)\n",
      "Requirement already up-to-date: jsonschema!=2.5.0,>=2.4 in /Users/SophieS/anaconda3/lib/python3.6/site-packages (from nbformat>=4->gs100)\n",
      "Requirement already up-to-date: jupyter_core in /Users/SophieS/anaconda3/lib/python3.6/site-packages (from nbformat>=4->gs100)\n",
      "Requirement already up-to-date: mistune>=0.7.4 in /Users/SophieS/anaconda3/lib/python3.6/site-packages (from nbconvert>=5->gs100)\n",
      "Requirement already up-to-date: jinja2 in /Users/SophieS/anaconda3/lib/python3.6/site-packages (from nbconvert>=5->gs100)\n",
      "Requirement already up-to-date: pygments in /Users/SophieS/anaconda3/lib/python3.6/site-packages (from nbconvert>=5->gs100)\n",
      "Requirement already up-to-date: entrypoints>=0.2.2 in /Users/SophieS/anaconda3/lib/python3.6/site-packages (from nbconvert>=5->gs100)\n",
      "Requirement already up-to-date: bleach in /Users/SophieS/anaconda3/lib/python3.6/site-packages (from nbconvert>=5->gs100)\n",
      "Requirement already up-to-date: pandocfilters>=1.4.1 in /Users/SophieS/anaconda3/lib/python3.6/site-packages (from nbconvert>=5->gs100)\n",
      "Requirement already up-to-date: testpath in /Users/SophieS/anaconda3/lib/python3.6/site-packages (from nbconvert>=5->gs100)\n",
      "Requirement already up-to-date: six in /Users/SophieS/.local/lib/python3.6/site-packages (from traitlets>=4.1->nbformat>=4->gs100)\n",
      "Requirement already up-to-date: decorator in /Users/SophieS/anaconda3/lib/python3.6/site-packages (from traitlets>=4.1->nbformat>=4->gs100)\n",
      "Requirement already up-to-date: MarkupSafe>=0.23 in /Users/SophieS/anaconda3/lib/python3.6/site-packages (from jinja2->nbconvert>=5->gs100)\n",
      "Requirement already up-to-date: html5lib!=1.0b1,!=1.0b2,!=1.0b3,!=1.0b4,!=1.0b5,!=1.0b6,!=1.0b7,!=1.0b8,>=0.99999999pre in /Users/SophieS/anaconda3/lib/python3.6/site-packages (from bleach->nbconvert>=5->gs100)\n",
      "Requirement already up-to-date: webencodings in /Users/SophieS/anaconda3/lib/python3.6/site-packages (from html5lib!=1.0b1,!=1.0b2,!=1.0b3,!=1.0b4,!=1.0b5,!=1.0b6,!=1.0b7,!=1.0b8,>=0.99999999pre->bleach->nbconvert>=5->gs100)\n",
      "Requirement already up-to-date: setuptools>=18.5 in /Users/SophieS/.local/lib/python3.6/site-packages (from html5lib!=1.0b1,!=1.0b2,!=1.0b3,!=1.0b4,!=1.0b5,!=1.0b6,!=1.0b7,!=1.0b8,>=0.99999999pre->bleach->nbconvert>=5->gs100)\n"
     ]
    },
    {
     "data": {
      "application/javascript": [
       "IPython.notebook.save_checkpoint();"
      ],
      "text/plain": [
       "<IPython.core.display.Javascript object>"
      ]
     },
     "metadata": {},
     "output_type": "display_data"
    },
    {
     "data": {
      "application/javascript": [
       "IPython.notebook.save_notebook();"
      ],
      "text/plain": [
       "<IPython.core.display.Javascript object>"
      ]
     },
     "metadata": {},
     "output_type": "display_data"
    },
    {
     "name": "stdout",
     "output_type": "stream",
     "text": [
      "Saving notebook... Saved 'proj2.ipynb'.\n",
      "Created question_pdfs/q_email.pdf\n",
      "Created question_pdfs/q01.pdf\n",
      "Created question_pdfs/q06.pdf\n",
      "Created question_pdfs/q_feature.pdf\n",
      "Created question_pdfs/q_eda1.pdf\n",
      "Created question_pdfs/q_eda2.pdf\n",
      "Created question_pdfs/q_eda4.pdf\n"
     ]
    },
    {
     "name": "stderr",
     "output_type": "stream",
     "text": [
      "WARNING  | converter.py:73 | We expected there to be 8 questions but there are only 8 in your final PDF. Gradescope will most likely not accept your submission. Double check that you wrote your answers in the cells that we provided.\n"
     ]
    },
    {
     "name": "stdout",
     "output_type": "stream",
     "text": [
      "Created question_pdfs/q_roc.pdf\n"
     ]
    },
    {
     "data": {
      "text/html": [
       "<a href=\"./gradescope.pdf\" target=\"_blank\">Done! Click this link to download the pdf. Upload this PDF to Gradescope for grading.</a>"
      ],
      "text/plain": [
       "<IPython.core.display.HTML object>"
      ]
     },
     "metadata": {},
     "output_type": "display_data"
    },
    {
     "name": "stdout",
     "output_type": "stream",
     "text": [
      "If the font size of your PDF is too small/large, change the value of the zoom argument when calling convert. For example, setting zoom=2 makes everything twice as big.\n"
     ]
    }
   ],
   "source": [
    "!pip install -U gs100\n",
    "from gs100 import convert\n",
    "# Change the zoom argument if your font size is too small\n",
    "convert('proj2.ipynb', num_questions=8, zoom=1)"
   ]
  },
  {
   "cell_type": "markdown",
   "metadata": {},
   "source": [
    "Make sure to upload your PDF now. Otherwise, your written questions won't be graded."
   ]
  },
  {
   "cell_type": "code",
   "execution_count": null,
   "metadata": {
    "collapsed": true
   },
   "outputs": [],
   "source": []
  },
  {
   "cell_type": "code",
   "execution_count": null,
   "metadata": {
    "collapsed": true
   },
   "outputs": [],
   "source": []
  }
 ],
 "metadata": {
  "kernelspec": {
   "display_name": "Python 3",
   "language": "python",
   "name": "python3"
  },
  "language_info": {
   "codemirror_mode": {
    "name": "ipython",
    "version": 3
   },
   "file_extension": ".py",
   "mimetype": "text/x-python",
   "name": "python",
   "nbconvert_exporter": "python",
   "pygments_lexer": "ipython3",
   "version": "3.6.0"
  }
 },
 "nbformat": 4,
 "nbformat_minor": 2
}
